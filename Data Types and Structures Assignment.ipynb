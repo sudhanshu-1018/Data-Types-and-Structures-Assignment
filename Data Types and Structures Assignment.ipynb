{
 "cells": [
  {
   "cell_type": "code",
   "execution_count": 1,
   "id": "a86cba1c-7f18-4770-87b6-59d8227c0a06",
   "metadata": {},
   "outputs": [],
   "source": [
    "#                          Data Types and Structures Questions"
   ]
  },
  {
   "cell_type": "code",
   "execution_count": null,
   "id": "636401d4-5024-4372-ad81-a61e6157317b",
   "metadata": {},
   "outputs": [],
   "source": [
    "'''\n",
    "1.\tWhat are data structures, and why are they important?\n",
    "  ->Data structures are ways to store and organize data efficiently, enabling efficient access and modification.\n",
    "    They are crucial for building efficient algorithms and managing data effectively.\n",
    "\n",
    "2.\tExplain the difference between mutable and immutable data types with examples.\n",
    "  ->mutable data type means which can be changed after creation (eg-list,set).\n",
    "  ->immutable data type means that can't be changed after creation (eg-tuple,string).\n",
    "  \n",
    "3.\tWhat are the main differences between lists and tuples in Python?\n",
    "  ->list are mutable and tuple are immutable\n",
    "  \n",
    "4.\tDescribe how dictionaries store data.\n",
    "  ->dictionary store data in form of key and value pair in which we can access value only through key\n",
    "  \n",
    "5.\tWhy might you use a set instead of a list in Python?\n",
    "  ->set has no fixed index value or unordered so, you can't access set through index value and it does not store duplicate\n",
    "    value.\n",
    "  \n",
    "6.\tWhat is a string in Python, and how is it different from a list?\n",
    "  ->Strings store text data and are immutableLists can store multiple data types, are mutable, and can include strings as\n",
    "    elements.\n",
    "  \n",
    "7.\tHow do tuples ensure data integrity in Python?\n",
    "  ->Tuples are immutable, which means their data cannot be changed after creation, ensuring consistency\n",
    "  \n",
    "8.\tWhat is a hash table, and how does it relate to dictionaries in Python?\n",
    "  ->A hash table is a data structure that maps keys to values. Dictionaries in Python use hash tables to store key-value\n",
    "    pairs, allowing for fast lookups.\n",
    "\n",
    "9.\tCan lists contain different data types in Python?\n",
    "  ->Yes,list can contain diferent data types like integer,string,boolean,float and more.\n",
    "  \n",
    "10.\tExplain why strings are immutable in Python.\n",
    "  ->Strings are immutable to ensure their integrity and to allow for more efficient memory management and\n",
    "    string manipulation.\n",
    "\n",
    "11.\tWhat advantages do dictionaries offer over lists for certain tasks?\n",
    "  ->Dictionaries offer fast lookups, insertion, and deletion operations using keys, making them efficient.\n",
    "\n",
    "12.\tDescribe a scenario where using a tuple would be preferable over a list.\n",
    "  ->Using a tuple is preferable when you need an immutable sequence of data, such as storing constants or fixed data\n",
    "    like aadhar numbers to prevent modifications.\n",
    "\n",
    "13.\tHow do sets handle duplicate values in Python?\n",
    "  ->Sets do not allow duplicate values; each element must be unique.\n",
    "\n",
    "14.\tHow does the \"in\" keyword work differently for lists and dictionaries?\n",
    " ->In list \"in\" checks for the presence of an element.\n",
    " ->In dictionary \"in\" checks for the presence of a key.\n",
    "\n",
    "15.\tCan you modify the elements of a tuple? Explain why or why not.\n",
    " ->No,you can,t modify it because tuples are immutable, ensuring that their data cannot be altered or changed.\n",
    "\n",
    "16.\tWhat is a nested dictionary, and give an example of its use case?\n",
    "  ->A nested dictionary is a dictionary within another dictionary. Useful for representing hierarchical data.\n",
    "\n",
    "17.\tDescribe the time complexity of accessing elements in a dictionary.\n",
    "  ->The average time complexity for accessing elements in a dictionary is O(1)\n",
    "\n",
    "18.\tIn what situations are lists preferred over dictionaries?\n",
    "  ->Lists are preferred when the order of elements is important or when you need to store a collection of items\n",
    "    without key-value pairs.\n",
    "\n",
    "19.\tWhy are dictionaries considered unordered, and how does that affect data retrieval?\n",
    "  ->Dictionaries are accessed using keys, not by indices. This means you cannot rely on the order of items as in lists,\n",
    "    but it allows for fast key-based access.\n",
    "\n",
    "20.\tExplain the difference between a list and a dictionary in terms of data retrieval.\n",
    "  ->In a list, data is retrieved by index.\n",
    "  ->In a dictionary, data is retrieved by key, making retrieval faster and more flexible.\n",
    "\n",
    "'''"
   ]
  },
  {
   "cell_type": "code",
   "execution_count": 3,
   "id": "903c6830-7c36-4907-91f3-81fe8c956671",
   "metadata": {},
   "outputs": [],
   "source": [
    "#                                 Practical Questions"
   ]
  },
  {
   "cell_type": "code",
   "execution_count": 73,
   "id": "fa3641b3-831b-4d99-a9db-049bb9241392",
   "metadata": {},
   "outputs": [
    {
     "name": "stdout",
     "output_type": "stream",
     "text": [
      "sudhanshu kumar singh\n"
     ]
    }
   ],
   "source": [
    "#1.\tWrite a code to create a string with your name and print it.\n",
    "\n",
    "name=\"sudhanshu kumar singh\"\n",
    "print(name)\n"
   ]
  },
  {
   "cell_type": "code",
   "execution_count": 133,
   "id": "c3a2f98d-889e-4195-b3cc-2b5ba9a06f86",
   "metadata": {},
   "outputs": [
    {
     "name": "stdout",
     "output_type": "stream",
     "text": [
      "11\n"
     ]
    }
   ],
   "source": [
    "# 2. Write a code to find the length of the string \"Hello World\".\n",
    "\n",
    "str=\"Hello World\"\n",
    "count=0\n",
    "for i in str:\n",
    "    count=count+1\n",
    "print(count)"
   ]
  },
  {
   "cell_type": "code",
   "execution_count": 13,
   "id": "7d0f65bc-67d9-42df-b1c0-08e4889f322a",
   "metadata": {},
   "outputs": [
    {
     "data": {
      "text/plain": [
       "11"
      ]
     },
     "execution_count": 13,
     "metadata": {},
     "output_type": "execute_result"
    }
   ],
   "source": [
    "len(str)"
   ]
  },
  {
   "cell_type": "code",
   "execution_count": 131,
   "id": "4893966c-5813-4c3f-9b86-0b70aecf9fe5",
   "metadata": {},
   "outputs": [
    {
     "data": {
      "text/plain": [
       "'pyt'"
      ]
     },
     "execution_count": 131,
     "metadata": {},
     "output_type": "execute_result"
    }
   ],
   "source": [
    "# 3. Write a code to slice the first 3 characters from the string \"Python Programming\".\n",
    "\n",
    "new_str=\"python programming\"\n",
    "new_str[:3]"
   ]
  },
  {
   "cell_type": "code",
   "execution_count": 135,
   "id": "1444f5bd-e233-4a7b-9672-3de3067d6f71",
   "metadata": {},
   "outputs": [
    {
     "data": {
      "text/plain": [
       "'HELLO'"
      ]
     },
     "execution_count": 135,
     "metadata": {},
     "output_type": "execute_result"
    }
   ],
   "source": [
    "# 4. Write a code to convert the string \"hello\" to uppercase.\n",
    "\n",
    "a=\"hello\"\n",
    "a.upper()"
   ]
  },
  {
   "cell_type": "code",
   "execution_count": 137,
   "id": "7887f93d-dcd3-430a-b463-d785df6a5b90",
   "metadata": {},
   "outputs": [
    {
     "data": {
      "text/plain": [
       "'I like orange'"
      ]
     },
     "execution_count": 137,
     "metadata": {},
     "output_type": "execute_result"
    }
   ],
   "source": [
    "# 5. Write a code to replace the word \"apple\" with \"orange\" in the string \"I like apple\".\n",
    "\n",
    "sen=\"I like apple\"\n",
    "sen.replace(\"apple\",\"orange\")"
   ]
  },
  {
   "cell_type": "code",
   "execution_count": 139,
   "id": "a7b0b9ce-af6e-433f-9494-fa7a46ab16cb",
   "metadata": {},
   "outputs": [
    {
     "data": {
      "text/plain": [
       "[1, 2, 3, 4, 5]"
      ]
     },
     "execution_count": 139,
     "metadata": {},
     "output_type": "execute_result"
    }
   ],
   "source": [
    "# 6. Write a code to create a list with numbers l to 5 and print it.\n",
    "\n",
    "l1=[i for i in range(1,6)]\n",
    "l1"
   ]
  },
  {
   "cell_type": "code",
   "execution_count": 47,
   "id": "ade254c0-997c-4d57-b37f-769a833ff874",
   "metadata": {},
   "outputs": [
    {
     "data": {
      "text/plain": [
       "[1, 2, 3, 4, 10]"
      ]
     },
     "execution_count": 47,
     "metadata": {},
     "output_type": "execute_result"
    }
   ],
   "source": [
    "# 7. Write a code to append the number 10 to the list [1, 2, 3, 4].\n",
    "\n",
    "l2=[1,2,3,4]\n",
    "l2.append(10)\n",
    "l2\n"
   ]
  },
  {
   "cell_type": "code",
   "execution_count": 51,
   "id": "8fe72549-8885-432d-812f-90c3258773bf",
   "metadata": {},
   "outputs": [
    {
     "data": {
      "text/plain": [
       "[1, 2, 4, 5]"
      ]
     },
     "execution_count": 51,
     "metadata": {},
     "output_type": "execute_result"
    }
   ],
   "source": [
    "# 8. Write a code to remove the number 3 from the list [1, 2, 3, 4, 5].\n",
    "\n",
    "l3=[1,2,3,4,5]\n",
    "l3.remove(3)\n",
    "l3\n"
   ]
  },
  {
   "cell_type": "code",
   "execution_count": 53,
   "id": "6af756a7-52b0-4258-87da-847627dd77d3",
   "metadata": {},
   "outputs": [
    {
     "data": {
      "text/plain": [
       "'b'"
      ]
     },
     "execution_count": 53,
     "metadata": {},
     "output_type": "execute_result"
    }
   ],
   "source": [
    "# 9. Write a code to access the second element in the list ['a', 'b', ·c·, 'd'].\n",
    "\n",
    "l4=['a','b','c','d']\n",
    "l4[1]\n"
   ]
  },
  {
   "cell_type": "code",
   "execution_count": 57,
   "id": "9befcf14-0a74-4422-80c1-b0a279b62983",
   "metadata": {},
   "outputs": [
    {
     "data": {
      "text/plain": [
       "[50, 40, 30, 20, 10]"
      ]
     },
     "execution_count": 57,
     "metadata": {},
     "output_type": "execute_result"
    }
   ],
   "source": [
    "# 10. Write a code to reverse the list [10, 20, 30, 40, 50 ].\n",
    "\n",
    "l5=[10,20,30,40,50]\n",
    "l5.reverse()\n",
    "l5"
   ]
  },
  {
   "cell_type": "code",
   "execution_count": 85,
   "id": "8cd5c14f-525b-4cb3-a2cf-f82ff960a151",
   "metadata": {},
   "outputs": [
    {
     "name": "stdout",
     "output_type": "stream",
     "text": [
      "(10, 20, 30)\n"
     ]
    }
   ],
   "source": [
    "# 11. Write a code to create a tuple with the elements 10, 20, 30 and print it.\n",
    "\n",
    "t1=(10,20,30)\n",
    "print(t1)"
   ]
  },
  {
   "cell_type": "code",
   "execution_count": 59,
   "id": "7a53960b-be7a-43f3-ad77-63a859b779ef",
   "metadata": {},
   "outputs": [
    {
     "data": {
      "text/plain": [
       "'apple'"
      ]
     },
     "execution_count": 59,
     "metadata": {},
     "output_type": "execute_result"
    }
   ],
   "source": [
    "# 12. Write a code to access the first element of the tuple ('apple', banana', 'cherry').\n",
    "\n",
    "t2=('apple', 'banana', 'cherry')\n",
    "t2[0]"
   ]
  },
  {
   "cell_type": "code",
   "execution_count": 61,
   "id": "e29cd623-afff-498f-9755-7599539bcff2",
   "metadata": {},
   "outputs": [
    {
     "data": {
      "text/plain": [
       "3"
      ]
     },
     "execution_count": 61,
     "metadata": {},
     "output_type": "execute_result"
    }
   ],
   "source": [
    "# 13. Write a code to count how many times the number 2 appears in the tuple (1, 2, 3, 2, 4, 2).\n",
    "\n",
    "t3=(1, 2, 3, 2, 4, 2)\n",
    "t3.count(2)\n"
   ]
  },
  {
   "cell_type": "code",
   "execution_count": 63,
   "id": "c9530384-87bf-454e-9f44-d03c535806b4",
   "metadata": {},
   "outputs": [
    {
     "data": {
      "text/plain": [
       "1"
      ]
     },
     "execution_count": 63,
     "metadata": {},
     "output_type": "execute_result"
    }
   ],
   "source": [
    "# 14. Write a code to find the index of the element \"cat\" in the tuple ('dog', 'cat', 'rabbit').\n",
    "\n",
    "t4=('dog', 'cat', 'rabbit')\n",
    "t4.index(\"cat\")"
   ]
  },
  {
   "cell_type": "code",
   "execution_count": 109,
   "id": "1db4fb1c-d008-425f-ae90-42334846a163",
   "metadata": {},
   "outputs": [
    {
     "data": {
      "text/plain": [
       "True"
      ]
     },
     "execution_count": 109,
     "metadata": {},
     "output_type": "execute_result"
    }
   ],
   "source": [
    "# 15. Write a code to check if the element \"banana\" is in the tuple ('apple', 'orange', 'banana').\n",
    "\n",
    "t5=('apple', 'orange', 'banana')\n",
    "\"banana\" in t5\n"
   ]
  },
  {
   "cell_type": "code",
   "execution_count": 119,
   "id": "fd726fe0-ea7b-4169-a5a4-007f3745c8cc",
   "metadata": {},
   "outputs": [
    {
     "data": {
      "text/plain": [
       "{1, 2, 3, 4, 5}"
      ]
     },
     "execution_count": 119,
     "metadata": {},
     "output_type": "execute_result"
    }
   ],
   "source": [
    "# 16. Write a code to create a set with the elements l, 2, 3, 4, 5 and print it.\n",
    "\n",
    "s1={1,2,3,4,5}\n",
    "s1"
   ]
  },
  {
   "cell_type": "code",
   "execution_count": 93,
   "id": "49662eba-0798-41d2-ba0e-eef94afe0ca3",
   "metadata": {},
   "outputs": [
    {
     "data": {
      "text/plain": [
       "{1, 2, 3, 4, 6}"
      ]
     },
     "execution_count": 93,
     "metadata": {},
     "output_type": "execute_result"
    }
   ],
   "source": [
    "# 17. Write a code to add the element 6 to the set {1, 2, 3, 4}.\n",
    "\n",
    "s2={1,2,3,4}\n",
    "s2.add(6)\n",
    "s2\n"
   ]
  },
  {
   "cell_type": "code",
   "execution_count": 113,
   "id": "bfa8d278-33e2-433e-8a05-44cc101573db",
   "metadata": {},
   "outputs": [
    {
     "data": {
      "text/plain": [
       "(10, 20, 30)"
      ]
     },
     "execution_count": 113,
     "metadata": {},
     "output_type": "execute_result"
    }
   ],
   "source": [
    "# 18. Write a code to create a tuple with the elements 10, 20, 30 and print it.\n",
    "\n",
    "t7=(10,20,30)\n",
    "t7"
   ]
  },
  {
   "cell_type": "code",
   "execution_count": 103,
   "id": "0d5ead7e-c9d7-4154-b9c7-fbbe762958fb",
   "metadata": {},
   "outputs": [
    {
     "data": {
      "text/plain": [
       "'apple'"
      ]
     },
     "execution_count": 103,
     "metadata": {},
     "output_type": "execute_result"
    }
   ],
   "source": [
    "# 19. Write a code to access the first element of the tuple ('apple', banana', 'cherry').\n",
    "\n",
    "t6=('apple', 'banana', 'cherry')\n",
    "t6[0]"
   ]
  },
  {
   "cell_type": "code",
   "execution_count": 111,
   "id": "f417fb13-0b7b-4972-9438-9dc121bb9c57",
   "metadata": {},
   "outputs": [
    {
     "data": {
      "text/plain": [
       "3"
      ]
     },
     "execution_count": 111,
     "metadata": {},
     "output_type": "execute_result"
    }
   ],
   "source": [
    "# 20. Write a code to count how many times the number 2 appears in the tuple (1, 2, 3, 2, 4, 2).\n",
    "\n",
    "t8=(1, 2, 3, 2, 4, 2)\n",
    "t8.count(2)"
   ]
  },
  {
   "cell_type": "code",
   "execution_count": 115,
   "id": "8755f808-a567-4baf-be23-de3a2f0597c1",
   "metadata": {},
   "outputs": [
    {
     "data": {
      "text/plain": [
       "1"
      ]
     },
     "execution_count": 115,
     "metadata": {},
     "output_type": "execute_result"
    }
   ],
   "source": [
    "# 21. Write a code to find the index of the element \"cat\" in the tuple ('dog', 'cat', 'rabbit').\n",
    "\n",
    "t9=('dog', 'cat', 'rabbit')\n",
    "t9.index('cat')"
   ]
  },
  {
   "cell_type": "code",
   "execution_count": 117,
   "id": "8e65ad19-9127-45a7-b847-1871425a5129",
   "metadata": {},
   "outputs": [
    {
     "data": {
      "text/plain": [
       "True"
      ]
     },
     "execution_count": 117,
     "metadata": {},
     "output_type": "execute_result"
    }
   ],
   "source": [
    "# 22. Write a code to check if the element \"banana\" is in the tuple ('apple', 'orange', banana').\n",
    "\n",
    "t10=('apple', 'orange', 'banana')\n",
    "'banana' in t10\n"
   ]
  },
  {
   "cell_type": "code",
   "execution_count": 121,
   "id": "c8c0019b-5ddf-4752-8386-ba81d0c61cbc",
   "metadata": {},
   "outputs": [
    {
     "data": {
      "text/plain": [
       "{1, 2, 3, 4, 5}"
      ]
     },
     "execution_count": 121,
     "metadata": {},
     "output_type": "execute_result"
    }
   ],
   "source": [
    "# 23. Write a code to create a set with the elements l, 2, 3, 4, 5 and print it.\n",
    "\n",
    "s6={i for i in range(1,6)}\n",
    "s6"
   ]
  },
  {
   "cell_type": "code",
   "execution_count": null,
   "id": "f7dfba03-3df8-4dac-8bc2-1ecf86a2a56e",
   "metadata": {},
   "outputs": [],
   "source": [
    "# 24. Write a code to add the element 6 to the set {1, 2, 3, 4}."
   ]
  },
  {
   "cell_type": "code",
   "execution_count": 123,
   "id": "f3a84426-4d96-4c74-84fb-7ca1ca487fc0",
   "metadata": {},
   "outputs": [
    {
     "data": {
      "text/plain": [
       "{1, 2, 3, 4, 6}"
      ]
     },
     "execution_count": 123,
     "metadata": {},
     "output_type": "execute_result"
    }
   ],
   "source": [
    "s7={1,2,3,4}\n",
    "s7.add(6)\n",
    "s7"
   ]
  },
  {
   "cell_type": "code",
   "execution_count": null,
   "id": "3c6d09e9-998c-4c3c-8d14-78107bf83f77",
   "metadata": {},
   "outputs": [],
   "source": []
  }
 ],
 "metadata": {
  "kernelspec": {
   "display_name": "Python 3 (ipykernel)",
   "language": "python",
   "name": "python3"
  },
  "language_info": {
   "codemirror_mode": {
    "name": "ipython",
    "version": 3
   },
   "file_extension": ".py",
   "mimetype": "text/x-python",
   "name": "python",
   "nbconvert_exporter": "python",
   "pygments_lexer": "ipython3",
   "version": "3.12.7"
  }
 },
 "nbformat": 4,
 "nbformat_minor": 5
}
